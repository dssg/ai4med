{
  "nbformat": 4,
  "nbformat_minor": 0,
  "metadata": {
    "colab": {
      "provenance": [],
      "authorship_tag": "ABX9TyOXND5PQxqsp2n50t3IoHD4",
      "include_colab_link": true
    },
    "kernelspec": {
      "name": "python3",
      "display_name": "Python 3"
    },
    "language_info": {
      "name": "python"
    }
  },
  "cells": [
    {
      "cell_type": "markdown",
      "metadata": {
        "id": "view-in-github",
        "colab_type": "text"
      },
      "source": [
        "<a href=\"https://colab.research.google.com/github/dssg/ai4med/blob/main/explore_emr.ipynb\" target=\"_parent\"><img src=\"https://colab.research.google.com/assets/colab-badge.svg\" alt=\"Open In Colab\"/></a>"
      ]
    },
    {
      "cell_type": "code",
      "execution_count": 15,
      "metadata": {
        "colab": {
          "base_uri": "https://localhost:8080/"
        },
        "id": "1V6MDIvRq9FI",
        "outputId": "39353e57-4fda-419a-c290-b0ce9460b713"
      },
      "outputs": [
        {
          "output_type": "stream",
          "name": "stdout",
          "text": [
            "Warning: apt-key is deprecated. Manage keyring files in trusted.gpg.d instead (see apt-key(8)).\n",
            "OK\n",
            "deb http://apt.postgresql.org/pub/repos/apt/ jammy-pgdg main\n",
            " * Starting PostgreSQL 11 database server\n",
            "   ...done.\n",
            " * Starting PostgreSQL 13 database server\n",
            "   ...done.\n",
            "ALTER ROLE\n",
            "ALTER ROLE\n",
            "ALTER ROLE\n",
            "psql: error: connection to server on socket \"/var/run/postgresql/.s.PGSQL.5432\" failed: FATAL:  Peer authentication failed for user \"dssg_admin\"\n",
            "psql: error: connection to server on socket \"/var/run/postgresql/.s.PGSQL.5432\" failed: FATAL:  Peer authentication failed for user \"dssg_admin\"\n",
            "env: DEMO_DATABASE_NAME=mimic\n",
            "env: DEMO_DATABASE_HOST=localhost\n",
            "env: DEMO_DATABASE_PORT=5432\n",
            "env: DEMO_DATABASE_USER=dssg_admin\n",
            "env: DEMO_DATABASE_PASS=dssg_admin\n"
          ]
        }
      ],
      "source": [
        "# Install and start postgresql-13 server\n",
        "!sudo apt-get -y -qq update\n",
        "!wget --quiet -O - https://www.postgresql.org/media/keys/ACCC4CF8.asc | sudo apt-key add -\n",
        "!echo \"deb http://apt.postgresql.org/pub/repos/apt/ `lsb_release -cs`-pgdg main\" |sudo tee  /etc/apt/sources.list.d/pgdg.list\n",
        "!sudo apt-get -y -qq update\n",
        "!sudo apt-get -y -qq install postgresql-13 postgresql-client-13\n",
        "!sudo service postgresql start\n",
        "\n",
        "# Setup a password `postgres` for username `postgres`\n",
        "!sudo -u postgres psql -U postgres -c \"ALTER USER postgres PASSWORD 'postgres';\"\n",
        "!sudo -u postgres psql -U postgres -c \"ALTER USER dssg_admin PASSWORD 'dssg_admin';\"\n",
        "!sudo -u postgres psql -U postgres -c \"ALTER USER dssg_admin WITH SUPERUSER;\"\n",
        "\n",
        "!sudo -u postgres psql -U dssg_admin -c \"DROP DATABASE IF EXISTS mimic;\"\n",
        "!sudo -u postgres psql -U dssg_admin -c \"create database mimic owner dssg_admin;\"\n",
        "\n",
        "# Setup a database with name `mimic` to be used\n",
        "\n",
        "# Environment variables for connecting to the database\n",
        "%env DEMO_DATABASE_NAME=mimic\n",
        "%env DEMO_DATABASE_HOST=localhost\n",
        "%env DEMO_DATABASE_PORT=5432\n",
        "%env DEMO_DATABASE_USER=dssg_admin\n",
        "%env DEMO_DATABASE_PASS=dssg_admin"
      ]
    },
    {
      "cell_type": "code",
      "source": [
        "# Download sampled mimic iii data and load it into our postgres server\n",
        "!curl -s -OL https://dsapp-public-data-migrated.s3.us-west-2.amazonaws.com/mimicsample.dump\n",
        "!PGPASSWORD=$DEMO_DATABASE_PASS pg_restore -h $DEMO_DATABASE_HOST -p $DEMO_DATABASE_PORT -d $DEMO_DATABASE_NAME -U $DEMO_DATABASE_USER -O -j 8 mimicsample.dump"
      ],
      "metadata": {
        "colab": {
          "base_uri": "https://localhost:8080/"
        },
        "id": "tGAJf9I3rKgV",
        "outputId": "3632837b-b84d-455f-bc16-6be3296a1c9e"
      },
      "execution_count": 16,
      "outputs": [
        {
          "output_type": "stream",
          "name": "stdout",
          "text": [
            "pg_restore: while PROCESSING TOC:\n",
            "pg_restore: from TOC entry 201; 1259 55516169 TABLE admissions dssg_admin\n",
            "pg_restore: error: could not set default_table_access_method: ERROR:  unrecognized configuration parameter \"default_table_access_method\"\n",
            "pg_restore: from TOC entry 4270; 0 0 ACL SCHEMA public rg_staff\n",
            "pg_restore: error: could not execute query: ERROR:  role \"rdsadmin\" does not exist\n",
            "Command was: REVOKE ALL ON SCHEMA public FROM rdsadmin;\n",
            "REVOKE ALL ON SCHEMA public FROM PUBLIC;\n",
            "GRANT ALL ON SCHEMA public TO rg_staff;\n",
            "GRANT ALL ON SCHEMA public TO PUBLIC;\n",
            "\n",
            "\n",
            "pg_restore: warning: errors ignored on restore: 3\n"
          ]
        }
      ]
    }
  ]
}